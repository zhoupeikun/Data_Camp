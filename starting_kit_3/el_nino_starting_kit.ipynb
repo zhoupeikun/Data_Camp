{
 "cells": [
  {
   "cell_type": "markdown",
   "metadata": {},
   "source": [
    "# <a href=\"http://www.datascience-paris-saclay.fr\">Paris Saclay Center for Data Science</a>\n",
    "# <a href=http://www.datascience-paris-saclay.fr/en/site/newsView/12>RAMP</a> on El Nino prediction\n",
    "\n",
    "<i> Balázs Kégl (CNRS), Claire Monteleoni (GWU), Mahesh Mohan (GWU), Timothy DelSole (COLA), Kathleen Pegion (COLA), Julie Leloup (UPMC), Alex Gramfort (LTCI), Mehdi Cherti (CNRS), Camille Marini (CNRS) </i>"
   ]
  },
  {
   "cell_type": "markdown",
   "metadata": {},
   "source": [
    "<h2>Introduction</h2>\n",
    "\n",
    "A climate index is real-valued time-series which has been designated of interest in the climate literature. For example, the El Niño–Southern Oscillation (ENSO) index has widespread uses for predictions of regional and seasonal conditions, as it tends to have strong (positive or negative) correlation with a variety of weather conditions and <a href=http://www.ipcc-wg2.gov/SREX/images/uploads/SREX-SPMbrochure_FINAL.pdf>extreme events</a> throughout the globe. The ENSO index is just one of the many climate indices studied. However there is currently significant room for improvement in predicting even this extremely well studied index with such high global impact. For example, most statistical and climatological models erred significantly in their predictions of the 2015 El Niño event; their predictions were off by several months. Better tools to predict such indices are critical for seasonal and regional climate prediction, and would thus address grand challenges in the study of climate change (<a href=https://www.wcrp-climate.org/grand-challenges/grand-challenges-overview>World Climate Research Programme: Grand Challenges, 2013)</a>.\n",
    "\n",
    "<h3>El Niño</h3>\n",
    "\n",
    "<a href=\"https://www.ncdc.noaa.gov/teleconnections/enso/indicators/sst.php\">El Niño</a> (La Niña) is a phenomenon in the equatorial Pacific Ocean characterized by a five consecutive 3-month running mean of sea surface temperature (SST) anomalies in the Niño 3.4 region that is above (below) the threshold of $+0.5^\\circ$C ($-0.5\\circ$C). This standard of measure is known as the Oceanic Niño Index (ONI).\n",
    "\n",
    "<img src=\"https://www.ncdc.noaa.gov/monitoring-content/teleconnections/nino-regions.gif\">\n",
    "\n",
    "More information can be found <a href=https://www.ncdc.noaa.gov/teleconnections/enso/indicators/sst.php>here</a> on why it is an important region, and what the history of the index is.\n",
    "\n",
    "Here are the <a href = http://iri.columbia.edu/our-expertise/climate/forecasts/enso/current/>current ENSO predictions</a>, updated monthly.\n",
    "\n",
    "\n",
    "<h3>The CCSM4 simulator</h3>\n",
    "\n",
    "Our data is coming from the <a href=http://www.cesm.ucar.edu/models/ccsm4.0/>CCSM4.0</a> model (simulator). This allows us to access a full regular temperature map for a 500+ year period which makes the evaluation of the predictor more robust than if we used real measurements. \n",
    "\n",
    "<h3>The data</h3>\n",
    "\n",
    "The data is a time series of \"images\" $z_t$, consisting of temperature measurements (for a technical reason it is not SST that we will work with, rather air temperature) on a regular grid on the Earth, indexed by lon(gitude) and lat(itude) coordinates. Latitude and longitude are sampled at a resolution of $5^\\circ$, giving 37 latitude and 72 longitude grid points, 2664 temperature measurements at every time step. The average temperatures are recorded every month for 119 years, giving 1428 time points in the public training data (available in the starting kit), 155/1860 in the training data (public leaderboard), and 500/6000 in the test data (private leaderboard). The goal is to predict the average temperature in the El Niño region, <span style=\"color:red\">6 months ahead</span>.\n",
    "\n",
    "Note that the data set given in the starting kit is different from the one used to evaluate your submissions (of course, the data <i>structures</i> and the generative model (simulator) will be identical), so your submission should be generic (for example, it should be able to handle a time series of different length). \n",
    "\n",
    "<h3>The prediction task</h3>\n",
    "\n",
    "The pipeline consists of a feature extractor and a predictor. Since the task is regression, the predictor will be a regressor, and the score (to minimize) will be the <a href=http://en.wikipedia.org/wiki/Root-mean-square_deviation>root mean square error</a>. The feature extractor will have access to the whole data. It will construct a \"classical\" feature matrix where each row corresponds to a time point. You should collect all information into these features that you find relevant to the regressor. The feature extractor can take <span style=\"color:red\">anything from the past</span>, that is, it will implement a function $x_t = f(z_1, \\ldots, z_t)$. Since you will have access to the full data, in theory you can cheat (even inadvertantly) by using information from the future. We have implemented a randomized test to detect such submissions, but please do your best to avoid this since it would make the results irrelevant.\n",
    "\n",
    "<h3>Domain-knowledge suggestions</h3>\n",
    "\n",
    "You are of course free to explore any regression technique to improve the prediction. Since the input dimension is relatively large (2000+ dimensions per time point even after subsampling) sparse regression techniques (eg. LASSO) may be the best way to go, but this is just an a priori suggestion. The following list provides you other hints to start with, based on domain knowledge. \n",
    "<ul>\n",
    "<li>There is a strong seasonal cycle that must be taken into account.\n",
    "<li>There is little scientific/observational evidence that regions outside the Pacific play a role in NINO3.4 variability, so it is probably best to focus on Pacific SST for predictions.  \n",
    "<li>The relation between tropical and extra-tropical Pacific SST is very unclear, so please explore!\n",
    "<li>The NINO3.4 index has an oscillatory character (cold followed by warm followed by cold), but this pattern does not repeat exactly.  It would be useful to be able to predict periods when the oscillation is “strong” and when it “breaks down.”  \n",
    "<li>A common shortcoming of empirical predictions is that they under-predict the <i>amplitude</i> of warm and cold events.  Can this be improved?\n",
    "<li>There is evidence that the predictability is low when forecasts start in, or cross over, March and April (the so-called “spring barrier”). Improving predictions through the spring barrier would be important.\n",
    "<ul>"
   ]
  },
  {
   "cell_type": "markdown",
   "metadata": {},
   "source": [
    "# Exploratory data analysis"
   ]
  },
  {
   "cell_type": "markdown",
   "metadata": {},
   "source": [
    "Packages to install:\n",
    "\n",
    "<code>conda install xarray dask netCDF4 bottleneck basemap</code><BR>"
   ]
  },
  {
   "cell_type": "code",
   "execution_count": 3,
   "metadata": {
    "collapsed": false
   },
   "outputs": [],
   "source": [
    "%matplotlib inline\n",
    "from mpl_toolkits.basemap import Basemap\n",
    "import matplotlib.pyplot as plt\n",
    "import numpy as np\n",
    "import pandas as pd\n",
    "import xarray as xr"
   ]
  },
  {
   "cell_type": "markdown",
   "metadata": {},
   "source": [
    "Let's start by reading the data into an xray Dataset object. You can find all information on how to access and manipulate <code>Dataset</code> and <code>DataArray</code> objects at the <a href=http://xray.readthedocs.org/en/stable/>xarray site</a>."
   ]
  },
  {
   "cell_type": "code",
   "execution_count": 4,
   "metadata": {
    "collapsed": false
   },
   "outputs": [],
   "source": [
    "X_ds = xr.open_dataset('el_nino_X_public_train.nc')\n",
    "y_array = np.load('el_nino_y_public_train.npy')"
   ]
  },
  {
   "cell_type": "markdown",
   "metadata": {},
   "source": [
    "Printing it, you can see that it contains all the data, indices, and other metadata."
   ]
  },
  {
   "cell_type": "code",
   "execution_count": 5,
   "metadata": {
    "collapsed": false
   },
   "outputs": [
    {
     "data": {
      "text/plain": [
       "<xarray.Dataset>\n",
       "Dimensions:  (lat: 37, lon: 72, time: 1428)\n",
       "Coordinates:\n",
       "    height   float64 2.0\n",
       "  * lat      (lat) float64 -90.0 -85.0 -80.0 -75.0 -70.0 -65.0 -60.0 -55.0 ...\n",
       "  * lon      (lon) float64 2.5 7.5 12.5 17.5 22.5 27.5 32.5 37.5 42.5 47.5 ...\n",
       "  * time     (time) datetime64[ns] 1700-01-16 1700-02-13 1700-03-16 ...\n",
       "Data variables:\n",
       "    tas      (time, lat, lon) float64 246.0 246.9 245.9 246.8 246.8 246.3 ...\n",
       "Attributes:\n",
       "    n_burn_in: 120\n",
       "    n_lookahead: 6"
      ]
     },
     "execution_count": 5,
     "metadata": {},
     "output_type": "execute_result"
    }
   ],
   "source": [
    "X_ds"
   ]
  },
  {
   "cell_type": "markdown",
   "metadata": {},
   "source": [
    "y_array on the disk is already shifted by n_lookahead = 6 months. n-burnin = 120 (months) is the length of the prefix for which no prediction is required. If your feature extractor only uses these ten years of the past to extract features from, you don't need to worry about missing data in the beginning of the sequence. Otherwise you should take care of the issue \"manually\"."
   ]
  },
  {
   "cell_type": "code",
   "execution_count": 6,
   "metadata": {
    "collapsed": false
   },
   "outputs": [
    {
     "data": {
      "text/plain": [
       "(array([ 299.68909098,  299.62266947,  299.38398844, ...,  298.96761678,\n",
       "         299.55478312,  299.60300395]), (1428,))"
      ]
     },
     "execution_count": 6,
     "metadata": {},
     "output_type": "execute_result"
    }
   ],
   "source": [
    "y_array, y_array.shape"
   ]
  },
  {
   "cell_type": "markdown",
   "metadata": {},
   "source": [
    "The main data is in the 'tas' (\"temperature at surface\") DataArray."
   ]
  },
  {
   "cell_type": "code",
   "execution_count": 7,
   "metadata": {
    "collapsed": false
   },
   "outputs": [
    {
     "data": {
      "text/plain": [
       "<xarray.DataArray 'tas' (time: 1428, lat: 37, lon: 72)>\n",
       "[3804192 values with dtype=float64]\n",
       "Coordinates:\n",
       "    height   float64 2.0\n",
       "  * lat      (lat) float64 -90.0 -85.0 -80.0 -75.0 -70.0 -65.0 -60.0 -55.0 ...\n",
       "  * lon      (lon) float64 2.5 7.5 12.5 17.5 22.5 27.5 32.5 37.5 42.5 47.5 ...\n",
       "  * time     (time) datetime64[ns] 1700-01-16 1700-02-13 1700-03-16 ..."
      ]
     },
     "execution_count": 7,
     "metadata": {},
     "output_type": "execute_result"
    }
   ],
   "source": [
    "X_ds['tas']"
   ]
  },
  {
   "cell_type": "markdown",
   "metadata": {},
   "source": [
    "You can index it in the same way as a <code>pandas</code> or <code>numpy</code> array. The result is always a <coda>DataArray</code>"
   ]
  },
  {
   "cell_type": "code",
   "execution_count": 8,
   "metadata": {
    "collapsed": false
   },
   "outputs": [
    {
     "data": {
      "text/plain": [
       "<xarray.DataArray 'tas' (time: 1428, lat: 37)>\n",
       "array([[ 246.34985352,  253.71881104,  256.89190674, ...,  244.21122742,\n",
       "         239.45343018,  237.40930176],\n",
       "       [ 235.5670166 ,  243.0508728 ,  245.73396301, ...,  233.93948364,\n",
       "         236.7585144 ,  236.36204529],\n",
       "       [ 220.1075592 ,  228.37557983,  230.78536987, ...,  238.11174011,\n",
       "         235.22380066,  234.21894836],\n",
       "       ..., \n",
       "       [ 220.79437256,  232.26931763,  231.0856781 , ...,  246.27235413,\n",
       "         246.00021362,  247.02697754],\n",
       "       [ 230.71813965,  239.49308777,  242.3021698 , ...,  247.43449402,\n",
       "         244.58831787,  241.91397095],\n",
       "       [ 241.24087524,  247.70802307,  251.32254028, ...,  240.62811279,\n",
       "         240.686203  ,  239.90797424]])\n",
       "Coordinates:\n",
       "    height   float64 2.0\n",
       "  * lat      (lat) float64 -90.0 -85.0 -80.0 -75.0 -70.0 -65.0 -60.0 -55.0 ...\n",
       "    lon      float64 147.5\n",
       "  * time     (time) datetime64[ns] 1700-01-16 1700-02-13 1700-03-16 ..."
      ]
     },
     "execution_count": 8,
     "metadata": {},
     "output_type": "execute_result"
    }
   ],
   "source": [
    "t = 123\n",
    "lat = 13\n",
    "lon = 29\n",
    "X_ds['tas'][t]\n",
    "X_ds['tas'][t, lat]\n",
    "X_ds['tas'][t, lat, lon]\n",
    "X_ds['tas'][:, lat, lon]\n",
    "X_ds['tas'][t, :, lon]\n",
    "X_ds['tas'][:, :, lon]"
   ]
  },
  {
   "cell_type": "markdown",
   "metadata": {},
   "source": [
    "You can convert any of these objects into a <code>numpy</code> array."
   ]
  },
  {
   "cell_type": "code",
   "execution_count": 9,
   "metadata": {
    "collapsed": false
   },
   "outputs": [
    {
     "data": {
      "text/plain": [
       "array(293.3496398925781)"
      ]
     },
     "execution_count": 9,
     "metadata": {},
     "output_type": "execute_result"
    }
   ],
   "source": [
    "X_ds['tas'].values\n",
    "X_ds['tas'][t].values\n",
    "X_ds['tas'][t, lat].values\n",
    "X_ds['tas'][t, lat, lon].values"
   ]
  },
  {
   "cell_type": "markdown",
   "metadata": {},
   "source": [
    "You can also use slices, and slice bounds don't even have to be in the index arrays. The following function computes the target at time $t$. The input is a DataArray (3D panel) that contains the temperatures. We select the El Niño 3.4 region and take the mean temperatures, specifying that we are taking the mean over the spatial (lat and lon) coordinates. The output is a vector with the same length as the original time series."
   ]
  },
  {
   "cell_type": "code",
   "execution_count": 10,
   "metadata": {
    "collapsed": true
   },
   "outputs": [],
   "source": [
    "en_lat_bottom = -5\n",
    "en_lat_top = 5\n",
    "en_lon_left = 360 - 170\n",
    "en_lon_right = 360 - 120\n",
    "\n",
    "def get_area_mean(tas, lat_bottom, lat_top, lon_left, lon_right):\n",
    "    \"\"\"The array of mean temperatures in a region at all time points.\"\"\"\n",
    "    return tas.loc[:, lat_bottom:lat_top, lon_left:lon_right].mean(dim=('lat','lon'))\n",
    "\n",
    "def get_enso_mean(tas):\n",
    "    \"\"\"The array of mean temperatures in the El Nino 3.4 region at all time points.\"\"\"\n",
    "    return get_area_mean(tas, en_lat_bottom, en_lat_top, en_lon_left, en_lon_right)"
   ]
  },
  {
   "cell_type": "markdown",
   "metadata": {},
   "source": [
    "The following function plots the temperatures at a given $t$ (time_index). "
   ]
  },
  {
   "cell_type": "code",
   "execution_count": 11,
   "metadata": {
    "collapsed": false
   },
   "outputs": [],
   "source": [
    "el_nino_lats = [en_lat_bottom, en_lat_top, en_lat_top, en_lat_bottom]\n",
    "el_nino_lons = [en_lon_right, en_lon_right, en_lon_left, en_lon_left]\n",
    "\n",
    "from matplotlib.patches import Polygon\n",
    "\n",
    "def plot_map(X_ds, time_index):\n",
    "    def draw_screen_poly(lats, lons, m):\n",
    "        x, y = m(lons, lats)\n",
    "        xy = list(zip(x, y))\n",
    "        poly = Polygon(xy, edgecolor='black', fill=False)\n",
    "        plt.gca().add_patch(poly)\n",
    "\n",
    "    lons, lats = np.meshgrid(X_ds['lon'], X_ds['lat'])\n",
    "\n",
    "    fig = plt.figure()\n",
    "    ax = fig.add_axes([0.05, 0.05, 0.9,0.9])\n",
    "    map = Basemap(llcrnrlon=0, llcrnrlat=-89, urcrnrlon=360, urcrnrlat=89, projection='mill')\n",
    "    # draw coastlines, country boundaries, fill continents.\n",
    "    map.drawcoastlines(linewidth=0.25)\n",
    "    #map.drawcountries(linewidth=0.25)\n",
    "    #map.fillcontinents(color='coral',lake_color='aqua')\n",
    "    # draw the edge of the map projection region (the projection limb)\n",
    "    #map.drawmapboundary(fill_color='aqua')\n",
    "    im = map.pcolormesh(\n",
    "        lons, lats, X_ds[time_index] - 273.15, shading='flat', cmap=plt.cm.jet, latlon=True)\n",
    "    cb = map.colorbar(im,\"bottom\", size=\"5%\", pad=\"2%\")\n",
    "    draw_screen_poly(el_nino_lats, el_nino_lons, map)\n",
    "\n",
    "    time_str = str(pd.to_datetime(str(X_ds['time'].values[time_index])))[:7]\n",
    "    ax.set_title(\"Temperature map \" + time_str)\n",
    "    #plt.savefig(\"test_plot.pdf\")\n",
    "    plt.show()"
   ]
  },
  {
   "cell_type": "markdown",
   "metadata": {},
   "source": [
    "Let's plot the temperature at a given time point. Feel free to change the time, play with the season, discover visually the variability of the temperature map. "
   ]
  },
  {
   "cell_type": "code",
   "execution_count": 12,
   "metadata": {
    "collapsed": false
   },
   "outputs": [
    {
     "data": {
      "image/png": "[encoded data removed]",
      "text/plain": [
       "<matplotlib.figure.Figure at 0x11311aed0>"
      ]
     },
     "metadata": {},
     "output_type": "display_data"
    }
   ],
   "source": [
    "t = 13\n",
    "plot_map(X_ds['tas'], t)"
   ]
  },
  {
   "cell_type": "markdown",
   "metadata": {},
   "source": [
    "## The target\n",
    "\n",
    "The goal is to predict the temperature in the El Niño region, $\\ell = 6$ months ahead\n",
    "\n",
    "\\begin{equation}\n",
    "  y_t = \\frac{1}{D} \\sum_{(lat, lon) \\in \\cal{A}_{\\rm{El\\ Niño}}} z_{t + \\ell}^{(lat, lon)}\n",
    "\\end{equation}\n",
    "\n",
    "Where $\\cal{A}_{\\rm{El\\ Niño}} = \\{(lat, lon) : -5^\\circ < lat < 5^\\circ \\wedge -170^\\circ < lon < -120^\\circ\\}$ is the index set of the El Niño 3.4 region, $D$ is the number of temperature measurements in the region, and $z_t^{(lat, lon)}$ is the temperature measured at time $t$, longitude $lon$ and latitude $lat$. "
   ]
  },
  {
   "cell_type": "markdown",
   "metadata": {},
   "source": [
    "The first order variation of the temperature comes from its regular yearly fluctuation. Climate scientists usually look at the temperture <i>anomaly</i>, not the raw temperature itself. More precisely, they subtract the montly average from the temperature. We set up the RAMP to predict the raw temperature because 1) subtracting the montly average is equivalent to adding the monthly average as an input feature to the regressor 2) we wanted to avoid computing the average on the full data since it would have violated causality (remember: you are not allowed to use the future, not even for computing averages). Nevertheless, it is interesting to look at the anomaly since you can compare it to plots produced by climate scientists.\n",
    "\n",
    "The snippet also shows some powerful features of xarray (grouping by months, taking the groupby mean)."
   ]
  },
  {
   "cell_type": "code",
   "execution_count": 13,
   "metadata": {
    "collapsed": false
   },
   "outputs": [],
   "source": [
    "enso = get_enso_mean(X_ds['tas'])\n",
    "enso_anomaly = enso.groupby('time.month') - enso.groupby('time.month').mean(dim='time')"
   ]
  },
  {
   "cell_type": "markdown",
   "metadata": {},
   "source": [
    "We plot the anomaly in a five year period. Conventionally, the El Niño/La Niña threshold is $0.5^\\circ$ Celsius. The plot displays the warm periods as red (El Niño) and cold perids (La Nina) as blue. To be precise, El Nino requires a period of three consecutive months with mean temperatures $0.5^\\circ$ Celsius above the seasonal average, so not all colored periods qualify."
   ]
  },
  {
   "cell_type": "code",
   "execution_count": 12,
   "metadata": {
    "collapsed": false
   },
   "outputs": [
    {
     "data": {
      "image/png": "[encoded data removed]",
      "text/plain": [
       "<matplotlib.figure.Figure at 0x1121593d0>"
      ]
     },
     "metadata": {},
     "output_type": "display_data"
    }
   ],
   "source": [
    "plt.clf()\n",
    "xrange = np.arange(0, 600)\n",
    "y = enso_anomaly[600:1200]\n",
    "x_limits = [min(xrange), max(xrange)]\n",
    "y_limits = [-3.0, 3.0]\n",
    "el_nino_threshold = 0.5\n",
    "plt.xlim(x_limits)\n",
    "plt.ylim(y_limits)\n",
    "plt.plot(xrange, y, c='black')\n",
    "plt.plot(x_limits, [el_nino_threshold, el_nino_threshold], c='r')\n",
    "plt.plot(x_limits, [-el_nino_threshold, -el_nino_threshold], c='b')\n",
    "plt.fill_between(xrange, el_nino_threshold, y, color='red', where=y>=el_nino_threshold, interpolate=True)\n",
    "plt.fill_between(xrange, -el_nino_threshold, y, color='blue', where=y<=-el_nino_threshold)\n",
    "plt.savefig(\"anomaly.png\")"
   ]
  },
  {
   "cell_type": "markdown",
   "metadata": {},
   "source": [
    "## The cross-validation object\n",
    "\n",
    "Cross validating time-series predictors is tricky. We can't simply shuffle the observations $z_t =$ <code>X_ds['tas'][t]</code> since we would lose both causality and the correlation structure that follows natural order. \n",
    "\n",
    "To formalize the issue, let us first define formally the predictor that we will produce in the RAMP. Let the time series be $z_1, \\ldots, z_T$ and the let target to predict at time $t$ be $y_t$. The target is usually (and in our case) a function of the future $z_{t+1}, \\ldots$, but it can be anything else. We want to learn a function that predicts $y$ from the past, that is\n",
    "\n",
    "\\begin{equation}\n",
    "\\hat{y}_t = f(z_1, ..., z_t) = f(Z_t)\n",
    "\\end{equation}\n",
    "\n",
    "where $Z_t = (z_1, ..., z_t)$ is the past. Now, the sample $(Z_t, y_t)$ is a regular (although none iid) sample from the point of view of shuffling, so we can train on $\\{Z_t, y_t\\}_{t \\in \\cal{I}_{\\text{train}}}$ and test on $(Z_t, y_t)_{t \\in \\cal{I}_{\\text{test}}}$, where $\\cal{I}_{\\text{train}}$ and $\\cal{I}_{\\text{test}}$ are arbitrary but disjunct train and test index sets, respectively (typically produced by sklearn's <code>ShuffleSplit</code>). Using shuffling would nevertheless allow a second order leakage from training points to test points that preceed them, by, e.g., aggregating the training set and adding the aggregate back as a feature. To avoid this, we use block-CV: on each fold, all $t \\in \\cal{I}_{\\text{test}}$ is larger than all $t \\in \\cal{I}_{\\text{train}}$. We also make sure that all training and test sets contain consecutive observations, so recurrent nets and similar predictors, which rely on this, may be trained.\n",
    "\n",
    "The training algorithm thus maps $(Z_t, y_t)_{t \\in \\cal{I}_{\\text{train}}}$ to $f$. The point $Z_t$ contains the target for all training points $Z_{t'}$ for $t' \\le t - 6$, so it is technically possible to cheat: when you receive a test set $z_1, ..., z_T$, you could look up the target of $z_t$ in $z_{t+6}$. To detect this (often inadvertant) cheating, we will check that you feature extractor is invariant to the future. \n",
    "\n",
    "To allow a reasonably long past before making the first prediction, we strip the first $b = 120$ months (burn-in). You can of course use a longer window in your feature extractor, but in this case you will have to handle the missing time points in the beginning of the sequence."
   ]
  },
  {
   "cell_type": "markdown",
   "metadata": {},
   "source": [
    "## The pipeline\n",
    "\n",
    "We have factorized the pipeline into two steps. The first feature extractor $g$ transforms the past into a classical feature vector $x_t = g(Z_t)$, and the classical regressor $h$ predicts the target from the feature vector $\\hat{y}_t = h(x_t)$. To summarize, the full predictor is a composition $f(Z_t) = h(g(Z_t))$. If you have a complex solution where this factorization does not make sense, you can do all the work in the feature extractor, output a prediction $x_t$ into a single-column feature matrix, and then use an identity regressor $\\hat{y}_t = x_t$ in the regressor module. "
   ]
  },
  {
   "cell_type": "markdown",
   "metadata": {},
   "source": [
    "### The feature extractor\n",
    "\n",
    "The feature extractor implements a single <code>transform</code> function. As we explained above, it receives the full <code>X_ds</code> including the burn-in period $b$ as an attribute. It should produce a feature matrix of length $T - b$, type numpy array, representing the past vector $(Z_{t+b}, \\ldots, Z_{T})$. For constructing/computing $x_t$, it can only use the past $Z_t = (z_1, \\ldots, z_t) = $ <code>X_ds['tas'][:t]</code>.\n",
    "\n",
    "You can choose one of the example feature extractors and copy-paste it into your ts_feature_extractor.py file. Comments within the cells explain what they do. "
   ]
  },
  {
   "cell_type": "code",
   "execution_count": 13,
   "metadata": {
    "collapsed": true
   },
   "outputs": [],
   "source": [
    "import numpy as np\n",
    "import xarray as xr\n",
    "\n",
    "en_lat_bottom = -5\n",
    "en_lat_top = 5\n",
    "en_lon_left = 360 - 170\n",
    "en_lon_right = 360 - 120\n",
    "\n",
    "def get_area_mean(tas, lat_bottom, lat_top, lon_left, lon_right):\n",
    "    \"\"\"The array of mean temperatures in a region at all time points.\"\"\"\n",
    "    return tas.loc[:, lat_bottom:lat_top, lon_left:lon_right].mean(dim=('lat', 'lon'))\n",
    "\n",
    "\n",
    "def get_enso_mean(tas):\n",
    "    \"\"\"The array of mean temperatures in the El Nino 3.4 region at all time points.\"\"\"\n",
    "    return get_area_mean(tas, en_lat_bottom, en_lat_top, en_lon_left, en_lon_right)\n",
    "\n",
    "\n",
    "class FeatureExtractor(object):\n",
    "\n",
    "    def __init__(self):\n",
    "        pass\n",
    "\n",
    "    def transform(self, X_ds):\n",
    "        \"\"\"Compute the El Nino mean at time t - (12 - X_ds.n_lookahead),\n",
    "        corresponding the month to be predicted.\"\"\"\n",
    "        # This is the range for which features should be provided. Strip\n",
    "        # the burn-in from the beginning.\n",
    "        valid_range = np.arange(X_ds.n_burn_in, len(X_ds['time']))\n",
    "        enso = get_enso_mean(X_ds['tas'])\n",
    "        # Roll the input series back so it corresponds to the month to be\n",
    "        # predicted\n",
    "        enso_rolled = np.roll(enso, 12 - X_ds.n_lookahead)\n",
    "        # Strip burn in.\n",
    "        enso_valid = enso_rolled[valid_range]\n",
    "        # Reshape into a matrix of one column\n",
    "        X_array = enso_valid.reshape((-1, 1))\n",
    "        return X_array"
   ]
  },
  {
   "cell_type": "code",
   "execution_count": 14,
   "metadata": {
    "collapsed": true
   },
   "outputs": [],
   "source": [
    "import numpy as np\n",
    "import xarray as xr\n",
    "\n",
    "class FeatureExtractor(object):\n",
    "\n",
    "    def __init__(self):\n",
    "        pass\n",
    "\n",
    "    def transform(self, X_ds):\n",
    "        \"\"\"Compute the whole field at time t.\"\"\"\n",
    "        # This is the range for which features should be provided. Strip\n",
    "        # the burn-in from the beginning.\n",
    "        valid_range = np.arange(X_ds.n_burn_in, len(X_ds['time']))\n",
    "        # Take the whole temperature field.\n",
    "        all = X_ds['tas'].values\n",
    "        # Vectorize it to obtain a single feature vector at time t.\n",
    "        vectorized = all.reshape(len(all), -1)\n",
    "        # Strip burn-in.\n",
    "        X_array = vectorized[valid_range]\n",
    "        return X_array"
   ]
  },
  {
   "cell_type": "code",
   "execution_count": 15,
   "metadata": {
    "collapsed": false
   },
   "outputs": [],
   "source": [
    "import numpy as np\n",
    "import xarray as xr\n",
    "\n",
    "en_lat_bottom = -5\n",
    "en_lat_top = 5\n",
    "en_lon_left = 360 - 170\n",
    "en_lon_right = 360 - 120\n",
    "\n",
    "\n",
    "def get_area_mean(tas, lat_bottom, lat_top, lon_left, lon_right):\n",
    "    \"\"\"The array of mean temperatures in a region at all time points.\"\"\"\n",
    "    return tas.loc[:, lat_bottom:lat_top, lon_left:lon_right].mean(dim=('lat', 'lon'))\n",
    "\n",
    "\n",
    "def get_enso_mean(tas):\n",
    "    \"\"\"The array of mean temperatures in the El Nino 3.4 region at all time points.\"\"\"\n",
    "    return get_area_mean(tas, en_lat_bottom, en_lat_top, en_lon_left, en_lon_right)\n",
    "\n",
    "\n",
    "class FeatureExtractor(object):\n",
    "\n",
    "    def __init__(self):\n",
    "        pass\n",
    "\n",
    "    def transform(self, X_ds):\n",
    "        \"\"\"Compute the El Nino running mean at time t - (12 - X_ds.n_lookahead),\n",
    "        corresponding the month to be predicted.\"\"\"\n",
    "        # This is the range for which features should be provided. Strip\n",
    "        # the burn-in from the beginning.\n",
    "        valid_range = np.arange(X_ds.n_burn_in, len(X_ds['time']))\n",
    "        ensos = [\n",
    "            get_enso_mean(X_ds['tas'].isel(time=slice(None, t)))\n",
    "            for t in range(X_ds.n_burn_in, len(X_ds['tas']))]\n",
    "        enso_anomalys = np.array([\n",
    "            enso.groupby('time.month') - enso.groupby('time.month').mean(dim='time')\n",
    "            for enso in ensos])\n",
    "        X_array = enso_anomalys.reshape((-1, 1))\n",
    "        print(valid_range.shape, len(ensos), len(X_ds['tas']), X_array.shape)\n",
    "        return X_array"
   ]
  },
  {
   "cell_type": "code",
   "execution_count": 16,
   "metadata": {
    "collapsed": true
   },
   "outputs": [],
   "source": [
    "import numpy as np\n",
    "import xarray as xr\n",
    "\n",
    "en_lat_bottom = -5\n",
    "en_lat_top = 5\n",
    "en_lon_left = 360 - 170\n",
    "en_lon_right = 360 - 120\n",
    "\n",
    "\n",
    "def get_area_mean(tas, lat_bottom, lat_top, lon_left, lon_right):\n",
    "    \"\"\"The array of mean temperatures in a region at all time points.\"\"\"\n",
    "    return tas.loc[:, lat_bottom:lat_top, lon_left:lon_right].mean(dim=('lat', 'lon'))\n",
    "\n",
    "\n",
    "def get_enso_mean(tas):\n",
    "    \"\"\"The array of mean temperatures in the El Nino 3.4 region at all time points.\"\"\"\n",
    "    return get_area_mean(tas, en_lat_bottom, en_lat_top, en_lon_left, en_lon_right)\n",
    "\n",
    "\n",
    "class FeatureExtractor(object):\n",
    "\n",
    "    def __init__(self):\n",
    "        pass\n",
    "\n",
    "    def transform(self, X_ds):\n",
    "        \"\"\"Compute the El Nino running mean at time t - (12 - X_ds.n_lookahead),\n",
    "        corresponding the month to be predicted and the anomaly at time t\n",
    "        (the difference between the temperature and the monthly running meam\n",
    "        \n",
    "        The code is short but inefficient. We will we giving bonus points for short\n",
    "        (elegant) and efficient solutions.\"\"\"\n",
    "        # This is the range for which features should be provided. Strip\n",
    "        # the burn-in from the beginning.\n",
    "        enso = get_enso_mean(X_ds['tas'])\n",
    "        # The running mean at time t. It is using xarray's groupby at every t, so\n",
    "        # its running time is O(T^2). In principle it can be computed in O(T).\n",
    "        enso_means = np.array([\n",
    "            enso.isel(time=slice(None, t)).groupby('time.month').mean(dim='time')[t % 12]\n",
    "            for t in range(X_ds.n_burn_in, len(X_ds['tas']))])\n",
    "        # The temperatur anomaly\n",
    "        enso_anomalys = enso[X_ds.n_burn_in:] - enso_means\n",
    "        # Means (rolled to match the month to be predicted) and the anomalies concatenated.\n",
    "        X_array = np.array([np.roll(enso_means, 12 - X_ds.n_lookahead), enso_anomalys.values]).T\n",
    "        return X_array"
   ]
  },
  {
   "cell_type": "markdown",
   "metadata": {},
   "source": [
    "## The illegal lookahead check\n",
    "\n",
    "Since the feature extractor receives the full data series which contains the target, we have no technical constraints against cheating, that is, using information coming after the present (six months before the target). We can nevertheless check wether the feature $x_t$ changes if we alter the future $(z_{t+1}, \\ldots)$. Such check is implemented both in the unit test (so you can check if your submission is valid) and at our backend (so you will receive a similar error message on the leaderboard if your model doesn't pass the test).\n",
    "\n",
    "Of course, you have no reason to deliberately cheat, but it is possible that you accidentally introduce a bug. For example, the code below rolls the features in the wrong way (forward instead of backward):<br>\n",
    "<code>enso_rolled = np.roll(enso, -X_ds.n_lookahead)</code>\n",
    "\n",
    "Check what happens when the unit test is run."
   ]
  },
  {
   "cell_type": "code",
   "execution_count": 17,
   "metadata": {
    "collapsed": false
   },
   "outputs": [],
   "source": [
    "import numpy as np\n",
    "import xarray as xr\n",
    "\n",
    "en_lat_bottom = -5\n",
    "en_lat_top = 5\n",
    "en_lon_left = 360 - 170\n",
    "en_lon_right = 360 - 120\n",
    "\n",
    "def get_area_mean(tas, lat_bottom, lat_top, lon_left, lon_right):\n",
    "    \"\"\"The array of mean temperatures in a region at all time points.\"\"\"\n",
    "    return tas.loc[:, lat_bottom:lat_top, lon_left:lon_right].mean(dim=('lat', 'lon'))\n",
    "\n",
    "\n",
    "def get_enso_mean(tas):\n",
    "    \"\"\"The array of mean temperatures in the El Nino 3.4 region at all time points.\"\"\"\n",
    "    return get_area_mean(tas, en_lat_bottom, en_lat_top, en_lon_left, en_lon_right)\n",
    "\n",
    "\n",
    "class FeatureExtractor(object):\n",
    "\n",
    "    def __init__(self):\n",
    "        pass\n",
    "\n",
    "    def transform(self, X_ds):\n",
    "        \"\"\"Compute the El Nino mean at time t - (12 - X_ds.n_lookahead),\n",
    "        corresponding the month to be predicted.\"\"\"\n",
    "        # This is the range for which features should be provided. Strip\n",
    "        # the burn-in from the beginning.\n",
    "        valid_range = np.arange(X_ds.n_burn_in, len(X_ds['time']))\n",
    "        enso = get_enso_mean(X_ds['tas'])\n",
    "        # Roll the input series forward (\"by accident\" :)) so it uses the\n",
    "        # target as input.\n",
    "        enso_rolled = np.roll(enso, -X_ds.n_lookahead)\n",
    "        # Strip burn in.\n",
    "        enso_valid = enso_rolled[valid_range]\n",
    "        # Reshape into a matrix of one column\n",
    "        X_array = enso_valid.reshape((-1, 1))\n",
    "        return X_array"
   ]
  },
  {
   "cell_type": "markdown",
   "metadata": {},
   "source": [
    "### The regressor\n",
    "\n",
    "The regressor should implement an sklearn-like regressor with fit and predict functions. Let's start with two simple regressors, a linear regressor and a regression tree. You can copy paste either of these into your first regressor.py file."
   ]
  },
  {
   "cell_type": "code",
   "execution_count": 18,
   "metadata": {
    "collapsed": true
   },
   "outputs": [],
   "source": [
    "from sklearn.base import BaseEstimator\n",
    "from sklearn import linear_model\n",
    " \n",
    "class Regressor(BaseEstimator):\n",
    "    def __init__(self):\n",
    "        self.clf = linear_model.BayesianRidge()\n",
    " \n",
    "    def fit(self, X, y):\n",
    "        self.clf.fit(X, y)\n",
    " \n",
    "    def predict(self, X):\n",
    "        return self.clf.predict(X)"
   ]
  },
  {
   "cell_type": "code",
   "execution_count": 19,
   "metadata": {
    "collapsed": true
   },
   "outputs": [],
   "source": [
    "from sklearn.base import BaseEstimator\n",
    "from sklearn import linear_model\n",
    " \n",
    "class Regressor(BaseEstimator):\n",
    "    def __init__(self):\n",
    "        self.clf = linear_model.Lasso(alpha=0.1)\n",
    " \n",
    "    def fit(self, X, y):\n",
    "        self.clf.fit(X, y)\n",
    " \n",
    "    def predict(self, X):\n",
    "        return self.clf.predict(X)"
   ]
  },
  {
   "cell_type": "code",
   "execution_count": 20,
   "metadata": {
    "collapsed": true
   },
   "outputs": [],
   "source": [
    "from sklearn.tree import DecisionTreeRegressor\n",
    "from sklearn.base import BaseEstimator\n",
    "\n",
    "class Regressor(BaseEstimator):\n",
    "    def __init__(self):\n",
    "        self.clf = DecisionTreeRegressor(max_depth=5)\n",
    "\n",
    "    def fit(self, X, y):\n",
    "        self.clf.fit(X, y)\n",
    "\n",
    "    def predict(self, X):\n",
    "        return self.clf.predict(X)"
   ]
  },
  {
   "cell_type": "markdown",
   "metadata": {
    "collapsed": true
   },
   "source": [
    "### Unit test\n",
    "\n",
    "You should use this notebook for preliminary analysis and visualization. Before submitting, you should make sure the code has no errors. First, copy-paste your regressor and feature extractor into the files <code>regressor.py</code> and <code>ts_feature_extractor.py</code>. Then execute the user_test_submission code, either in a separate terminal or below. You can also look at <code>user_test_submission.py</code> to see how we cross-validate and score your submissions. But don't modify it: its goal is to mimic what we do at our backend."
   ]
  },
  {
   "cell_type": "code",
   "execution_count": 21,
   "metadata": {
    "collapsed": false,
    "scrolled": true
   },
   "outputs": [
    {
     "name": "stdout",
     "output_type": "stream",
     "text": [
      "length of training array: 576 months = 48 years\n",
      "length of test array: 852 months = 71 years\n",
      "length of burn in: 120 months = 10 years\n",
      "length of common block: 168 months = 14 years\n",
      "length of validation block: 288 months = 24 years\n",
      "length of each cv block: 36 months = 3 years\n",
      "train RMSE = 0.809; valid RMSE = 0.687; test RMSE =0.617\n",
      "train RMSE = 0.767; valid RMSE = 0.705; test RMSE =0.618\n",
      "train RMSE = 0.748; valid RMSE = 0.714; test RMSE =0.616\n",
      "train RMSE = 0.729; valid RMSE = 0.733; test RMSE =0.614\n",
      "train RMSE = 0.749; valid RMSE = 0.682; test RMSE =0.612\n",
      "train RMSE = 0.736; valid RMSE = 0.713; test RMSE =0.613\n",
      "train RMSE = 0.714; valid RMSE = 0.803; test RMSE =0.61\n",
      "train RMSE = 0.703; valid RMSE = 0.952; test RMSE =0.611\n",
      "mean train RMSE = 0.744 ± 0.0309\n",
      "mean valid RMSE = 0.749 ± 0.0844\n",
      "mean test RMSE = 0.614 ± 0.0028\n"
     ]
    }
   ],
   "source": [
    "!python user_test_submission.py"
   ]
  },
  {
   "cell_type": "code",
   "execution_count": null,
   "metadata": {
    "collapsed": true
   },
   "outputs": [],
   "source": []
  }
 ],
 "metadata": {
  "anaconda-cloud": {},
  "kernelspec": {
   "display_name": "Python [default]",
   "language": "python",
   "name": "python2"
  },
  "language_info": {
   "codemirror_mode": {
    "name": "ipython",
    "version": 2
   },
   "file_extension": ".py",
   "mimetype": "text/x-python",
   "name": "python",
   "nbconvert_exporter": "python",
   "pygments_lexer": "ipython2",
   "version": "2.7.12"
  }
 },
 "nbformat": 4,
 "nbformat_minor": 0
}
