{
 "cells": [
  {
   "cell_type": "markdown",
   "metadata": {
    "collapsed": true
   },
   "source": [
    "## RAMP on qualitative and quantitative non-invasive monitoring of anti-cancer drugs \n"
   ]
  },
  {
   "cell_type": "markdown",
   "metadata": {},
   "source": [
    "15 Dec, 2016  \n",
    "ZHOU Peikun"
   ]
  },
  {
   "cell_type": "markdown",
   "metadata": {},
   "source": [
    "## Data Analysis"
   ]
  },
  {
   "cell_type": "code",
   "execution_count": 3,
   "metadata": {
    "collapsed": false
   },
   "outputs": [],
   "source": [
    "%matplotlib inline\n",
    "import os\n",
    "import glob\n",
    "import numpy as np\n",
    "from scipy import io\n",
    "import matplotlib.pyplot as plt\n",
    "import pandas as pd\n",
    "data = pd.read_csv('train.csv')\n",
    "\n",
    "y_df = data[['molecule', 'concentration']]\n",
    "X_df = data.drop(['molecule', 'concentration'], axis=1)\n",
    "spectra = X_df['spectra'].values                                        \n",
    "spectra = np.array([np.array(dd[1:-1].split(',')).astype(float) for dd in spectra])    \n",
    "X_df['spectra'] = spectra.tolist()\n",
    "\n",
    "# Loading wavenumbers\n",
    "freqs = pd.read_csv('freq.csv')\n",
    "freqs = freqs['freqs'].values"
   ]
  },
  {
   "cell_type": "code",
   "execution_count": 4,
   "metadata": {
    "collapsed": true
   },
   "outputs": [],
   "source": [
    "# Target for classification, 分子\n",
    "molecule = y_df['molecule'].values\n",
    "# Target for regression， 浓度\n",
    "concentration = y_df['concentration'].values\n",
    "# \"Raw\" features， 光谱\n",
    "X = spectra"
   ]
  },
  {
   "cell_type": "code",
   "execution_count": 5,
   "metadata": {
    "collapsed": false
   },
   "outputs": [
    {
     "data": {
      "text/plain": [
       "array([  300,   400,   500,   600,   800,  1000,  1200,  1400,  1500,\n",
       "        1600,  2000,  3000,  4000,  5000,  6000,  7000,  8000,  9000,\n",
       "       10000, 20000, 25000])"
      ]
     },
     "execution_count": 5,
     "metadata": {},
     "output_type": "execute_result"
    }
   ],
   "source": [
    "np.unique(concentration)"
   ]
  },
  {
   "cell_type": "code",
   "execution_count": 6,
   "metadata": {
    "collapsed": false
   },
   "outputs": [
    {
     "data": {
      "text/plain": [
       "array([[ 0.0152963,  0.0152944,  0.0153142, ...,  0.017305 ,  0.0170706,\n",
       "         0.0172018],\n",
       "       [ 0.0143634,  0.0143292,  0.0143999, ...,  0.018519 ,  0.0186104,\n",
       "         0.0187633],\n",
       "       [ 0.0163027,  0.0161848,  0.0163573, ...,  0.017772 ,  0.0179032,\n",
       "         0.0175998],\n",
       "       ..., \n",
       "       [ 0.019496 ,  0.0195301,  0.0193758, ...,  0.0160981,  0.0162023,\n",
       "         0.0161263],\n",
       "       [ 0.0173912,  0.0178033,  0.0173978, ...,  0.0170894,  0.0170807,\n",
       "         0.0169723],\n",
       "       [ 0.0167408,  0.016743 ,  0.0165654, ...,  0.0174375,  0.0173088,\n",
       "         0.0173755]])"
      ]
     },
     "execution_count": 6,
     "metadata": {},
     "output_type": "execute_result"
    }
   ],
   "source": [
    "spectra"
   ]
  },
  {
   "cell_type": "code",
   "execution_count": 7,
   "metadata": {
    "collapsed": false
   },
   "outputs": [
    {
     "data": {
      "text/plain": [
       "(1866, 999)"
      ]
     },
     "execution_count": 7,
     "metadata": {},
     "output_type": "execute_result"
    }
   ],
   "source": [
    "spectra.T.shape"
   ]
  },
  {
   "cell_type": "code",
   "execution_count": null,
   "metadata": {
    "collapsed": true
   },
   "outputs": [],
   "source": [
    "# Why we need array.T?? transform to meet freqs' dimension, each freq is corresponde to 999 spectra\n",
    "plt.plot(freqs, spectra.T)\n",
    "plt.xlabel('Freq')\n",
    "plt.ylabel('Intensity')"
   ]
  }
 ],
 "metadata": {
  "anaconda-cloud": {},
  "kernelspec": {
   "display_name": "Python [default]",
   "language": "python",
   "name": "python2"
  },
  "language_info": {
   "codemirror_mode": {
    "name": "ipython",
    "version": 2
   },
   "file_extension": ".py",
   "mimetype": "text/x-python",
   "name": "python",
   "nbconvert_exporter": "python",
   "pygments_lexer": "ipython2",
   "version": "2.7.12"
  }
 },
 "nbformat": 4,
 "nbformat_minor": 1
}
